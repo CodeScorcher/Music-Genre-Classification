{
 "cells": [
  {
   "cell_type": "markdown",
   "id": "6972400f",
   "metadata": {},
   "source": [
    "# CS4661 Project Report: Music Genre Classification"
   ]
  },
  {
   "cell_type": "code",
   "execution_count": 1,
   "id": "f22b471c",
   "metadata": {},
   "outputs": [],
   "source": [
    "from sklearn.tree import DecisionTreeClassifier\n",
    "from sklearn.model_selection import train_test_split\n",
    "from sklearn.metrics import accuracy_score\n",
    "from sklearn.ensemble import RandomForestClassifier\n",
    "from sklearn.neighbors import KNeighborsClassifier\n",
    "from sklearn import metrics\n",
    "import math\n",
    "import pandas as pd\n",
    "import matplotlib.pyplot as plt\n",
    "\n",
    "%matplotlib inline"
   ]
  },
  {
   "cell_type": "code",
   "execution_count": 2,
   "id": "af0f46bf",
   "metadata": {
    "scrolled": false
   },
   "outputs": [],
   "source": [
    "# \"read_csv\" is a pandas function that we use here to read the data file \"train (1).csv\"\n",
    "train_df = pd.read_csv(\"shai-music-genre-classification//train (1).csv\")\n",
    "\n",
    "# Create a variable for the mean of values in the \"instrumentalness\" column\n",
    "X_mean_instrum = train_df['instrumentalness'].mean()\n",
    "\n",
    "# Create a variable for the mean of values in the \"Popularity\" column\n",
    "X_mean_popul = train_df['Popularity'].mean()\n",
    "\n",
    "# Create a variable for the mean of values in the \"key\" column\n",
    "X_mean_key = train_df['key'].mean()\n",
    "\n",
    "# Replace NaNs in these columns with the mean of values for their respective columns\n",
    "train_df['instrumentalness'].fillna(value=X_mean_instrum, inplace=True)\n",
    "train_df['Popularity'].fillna(value=X_mean_popul, inplace=True)\n",
    "train_df['key'].fillna(value=X_mean_key, inplace=True)"
   ]
  },
  {
   "cell_type": "code",
   "execution_count": 3,
   "id": "e014c127",
   "metadata": {},
   "outputs": [],
   "source": [
    "# Since label value 10 corresponds to 'rock', we will replaces all 10 values with 1 and all others with 0 in the 'Class' \n",
    "# column so that we can have a binary classification\n",
    "not_rock = train_df['Class'] != 10\n",
    "is_rock = train_df['Class'] == 10\n",
    "\n",
    "train_df.loc[not_rock, 'Class'] = 0\n",
    "train_df.loc[is_rock, 'Class'] = 1"
   ]
  },
  {
   "cell_type": "markdown",
   "id": "c201b334",
   "metadata": {},
   "source": [
    "# Testing Accuracy and AUC when NaN values are replaced with the mean of all other values in that column"
   ]
  },
  {
   "cell_type": "code",
   "execution_count": 4,
   "id": "2a495929",
   "metadata": {},
   "outputs": [
    {
     "name": "stdout",
     "output_type": "stream",
     "text": [
      "(12236, 14)\n"
     ]
    },
    {
     "data": {
      "text/html": [
       "<div>\n",
       "<style scoped>\n",
       "    .dataframe tbody tr th:only-of-type {\n",
       "        vertical-align: middle;\n",
       "    }\n",
       "\n",
       "    .dataframe tbody tr th {\n",
       "        vertical-align: top;\n",
       "    }\n",
       "\n",
       "    .dataframe thead th {\n",
       "        text-align: right;\n",
       "    }\n",
       "</style>\n",
       "<table border=\"1\" class=\"dataframe\">\n",
       "  <thead>\n",
       "    <tr style=\"text-align: right;\">\n",
       "      <th></th>\n",
       "      <th>Popularity</th>\n",
       "      <th>danceability</th>\n",
       "      <th>energy</th>\n",
       "      <th>key</th>\n",
       "      <th>loudness</th>\n",
       "      <th>mode</th>\n",
       "      <th>speechiness</th>\n",
       "      <th>acousticness</th>\n",
       "      <th>instrumentalness</th>\n",
       "      <th>liveness</th>\n",
       "      <th>valence</th>\n",
       "      <th>tempo</th>\n",
       "      <th>duration_in min/ms</th>\n",
       "      <th>time_signature</th>\n",
       "    </tr>\n",
       "  </thead>\n",
       "  <tbody>\n",
       "    <tr>\n",
       "      <th>9188</th>\n",
       "      <td>49.0</td>\n",
       "      <td>0.184</td>\n",
       "      <td>0.207</td>\n",
       "      <td>2.0</td>\n",
       "      <td>-17.119</td>\n",
       "      <td>1</td>\n",
       "      <td>0.0330</td>\n",
       "      <td>0.940000</td>\n",
       "      <td>0.931000</td>\n",
       "      <td>0.0772</td>\n",
       "      <td>0.089</td>\n",
       "      <td>79.979</td>\n",
       "      <td>251173.000000</td>\n",
       "      <td>3</td>\n",
       "    </tr>\n",
       "    <tr>\n",
       "      <th>7086</th>\n",
       "      <td>69.0</td>\n",
       "      <td>0.553</td>\n",
       "      <td>0.872</td>\n",
       "      <td>1.0</td>\n",
       "      <td>-2.832</td>\n",
       "      <td>0</td>\n",
       "      <td>0.0782</td>\n",
       "      <td>0.198000</td>\n",
       "      <td>0.178129</td>\n",
       "      <td>0.0659</td>\n",
       "      <td>0.638</td>\n",
       "      <td>172.138</td>\n",
       "      <td>3.676217</td>\n",
       "      <td>4</td>\n",
       "    </tr>\n",
       "    <tr>\n",
       "      <th>3463</th>\n",
       "      <td>22.0</td>\n",
       "      <td>0.118</td>\n",
       "      <td>0.964</td>\n",
       "      <td>1.0</td>\n",
       "      <td>-4.060</td>\n",
       "      <td>1</td>\n",
       "      <td>0.4360</td>\n",
       "      <td>0.000120</td>\n",
       "      <td>0.139000</td>\n",
       "      <td>0.3370</td>\n",
       "      <td>0.107</td>\n",
       "      <td>200.003</td>\n",
       "      <td>269787.000000</td>\n",
       "      <td>4</td>\n",
       "    </tr>\n",
       "    <tr>\n",
       "      <th>1897</th>\n",
       "      <td>58.0</td>\n",
       "      <td>0.634</td>\n",
       "      <td>0.648</td>\n",
       "      <td>3.0</td>\n",
       "      <td>-6.781</td>\n",
       "      <td>0</td>\n",
       "      <td>0.0412</td>\n",
       "      <td>0.361000</td>\n",
       "      <td>0.178129</td>\n",
       "      <td>0.6190</td>\n",
       "      <td>0.667</td>\n",
       "      <td>95.989</td>\n",
       "      <td>4.130200</td>\n",
       "      <td>4</td>\n",
       "    </tr>\n",
       "    <tr>\n",
       "      <th>1907</th>\n",
       "      <td>32.0</td>\n",
       "      <td>0.413</td>\n",
       "      <td>0.690</td>\n",
       "      <td>10.0</td>\n",
       "      <td>-6.868</td>\n",
       "      <td>1</td>\n",
       "      <td>0.0299</td>\n",
       "      <td>0.212000</td>\n",
       "      <td>0.024100</td>\n",
       "      <td>0.3140</td>\n",
       "      <td>0.483</td>\n",
       "      <td>95.260</td>\n",
       "      <td>267533.000000</td>\n",
       "      <td>4</td>\n",
       "    </tr>\n",
       "    <tr>\n",
       "      <th>...</th>\n",
       "      <td>...</td>\n",
       "      <td>...</td>\n",
       "      <td>...</td>\n",
       "      <td>...</td>\n",
       "      <td>...</td>\n",
       "      <td>...</td>\n",
       "      <td>...</td>\n",
       "      <td>...</td>\n",
       "      <td>...</td>\n",
       "      <td>...</td>\n",
       "      <td>...</td>\n",
       "      <td>...</td>\n",
       "      <td>...</td>\n",
       "      <td>...</td>\n",
       "    </tr>\n",
       "    <tr>\n",
       "      <th>9160</th>\n",
       "      <td>37.0</td>\n",
       "      <td>0.479</td>\n",
       "      <td>0.909</td>\n",
       "      <td>2.0</td>\n",
       "      <td>-7.404</td>\n",
       "      <td>1</td>\n",
       "      <td>0.0716</td>\n",
       "      <td>0.000091</td>\n",
       "      <td>0.758000</td>\n",
       "      <td>0.6340</td>\n",
       "      <td>0.278</td>\n",
       "      <td>111.892</td>\n",
       "      <td>310467.000000</td>\n",
       "      <td>4</td>\n",
       "    </tr>\n",
       "    <tr>\n",
       "      <th>9859</th>\n",
       "      <td>71.0</td>\n",
       "      <td>0.671</td>\n",
       "      <td>0.256</td>\n",
       "      <td>7.0</td>\n",
       "      <td>-10.743</td>\n",
       "      <td>1</td>\n",
       "      <td>0.0387</td>\n",
       "      <td>0.608000</td>\n",
       "      <td>0.178129</td>\n",
       "      <td>0.0737</td>\n",
       "      <td>0.694</td>\n",
       "      <td>115.871</td>\n",
       "      <td>233560.000000</td>\n",
       "      <td>4</td>\n",
       "    </tr>\n",
       "    <tr>\n",
       "      <th>11513</th>\n",
       "      <td>39.0</td>\n",
       "      <td>0.579</td>\n",
       "      <td>0.636</td>\n",
       "      <td>2.0</td>\n",
       "      <td>-8.574</td>\n",
       "      <td>0</td>\n",
       "      <td>0.0276</td>\n",
       "      <td>0.082100</td>\n",
       "      <td>0.922000</td>\n",
       "      <td>0.4460</td>\n",
       "      <td>0.898</td>\n",
       "      <td>132.652</td>\n",
       "      <td>280853.000000</td>\n",
       "      <td>4</td>\n",
       "    </tr>\n",
       "    <tr>\n",
       "      <th>1688</th>\n",
       "      <td>66.0</td>\n",
       "      <td>0.478</td>\n",
       "      <td>0.974</td>\n",
       "      <td>7.0</td>\n",
       "      <td>-3.866</td>\n",
       "      <td>1</td>\n",
       "      <td>0.1020</td>\n",
       "      <td>0.000266</td>\n",
       "      <td>0.098400</td>\n",
       "      <td>0.0738</td>\n",
       "      <td>0.268</td>\n",
       "      <td>141.077</td>\n",
       "      <td>248307.000000</td>\n",
       "      <td>4</td>\n",
       "    </tr>\n",
       "    <tr>\n",
       "      <th>5994</th>\n",
       "      <td>35.0</td>\n",
       "      <td>0.456</td>\n",
       "      <td>0.264</td>\n",
       "      <td>6.0</td>\n",
       "      <td>-13.787</td>\n",
       "      <td>1</td>\n",
       "      <td>0.0318</td>\n",
       "      <td>0.983000</td>\n",
       "      <td>0.343000</td>\n",
       "      <td>0.1180</td>\n",
       "      <td>0.694</td>\n",
       "      <td>94.352</td>\n",
       "      <td>4.722667</td>\n",
       "      <td>3</td>\n",
       "    </tr>\n",
       "  </tbody>\n",
       "</table>\n",
       "<p>12236 rows × 14 columns</p>\n",
       "</div>"
      ],
      "text/plain": [
       "       Popularity  danceability  energy   key  loudness  mode  speechiness  \\\n",
       "9188         49.0         0.184   0.207   2.0   -17.119     1       0.0330   \n",
       "7086         69.0         0.553   0.872   1.0    -2.832     0       0.0782   \n",
       "3463         22.0         0.118   0.964   1.0    -4.060     1       0.4360   \n",
       "1897         58.0         0.634   0.648   3.0    -6.781     0       0.0412   \n",
       "1907         32.0         0.413   0.690  10.0    -6.868     1       0.0299   \n",
       "...           ...           ...     ...   ...       ...   ...          ...   \n",
       "9160         37.0         0.479   0.909   2.0    -7.404     1       0.0716   \n",
       "9859         71.0         0.671   0.256   7.0   -10.743     1       0.0387   \n",
       "11513        39.0         0.579   0.636   2.0    -8.574     0       0.0276   \n",
       "1688         66.0         0.478   0.974   7.0    -3.866     1       0.1020   \n",
       "5994         35.0         0.456   0.264   6.0   -13.787     1       0.0318   \n",
       "\n",
       "       acousticness  instrumentalness  liveness  valence    tempo  \\\n",
       "9188       0.940000          0.931000    0.0772    0.089   79.979   \n",
       "7086       0.198000          0.178129    0.0659    0.638  172.138   \n",
       "3463       0.000120          0.139000    0.3370    0.107  200.003   \n",
       "1897       0.361000          0.178129    0.6190    0.667   95.989   \n",
       "1907       0.212000          0.024100    0.3140    0.483   95.260   \n",
       "...             ...               ...       ...      ...      ...   \n",
       "9160       0.000091          0.758000    0.6340    0.278  111.892   \n",
       "9859       0.608000          0.178129    0.0737    0.694  115.871   \n",
       "11513      0.082100          0.922000    0.4460    0.898  132.652   \n",
       "1688       0.000266          0.098400    0.0738    0.268  141.077   \n",
       "5994       0.983000          0.343000    0.1180    0.694   94.352   \n",
       "\n",
       "       duration_in min/ms  time_signature  \n",
       "9188        251173.000000               3  \n",
       "7086             3.676217               4  \n",
       "3463        269787.000000               4  \n",
       "1897             4.130200               4  \n",
       "1907        267533.000000               4  \n",
       "...                   ...             ...  \n",
       "9160        310467.000000               4  \n",
       "9859        233560.000000               4  \n",
       "11513       280853.000000               4  \n",
       "1688        248307.000000               4  \n",
       "5994             4.722667               3  \n",
       "\n",
       "[12236 rows x 14 columns]"
      ]
     },
     "execution_count": 4,
     "metadata": {},
     "output_type": "execute_result"
    }
   ],
   "source": [
    "# Create a python list of feature names\n",
    "feature_cols = ['Popularity', 'danceability', 'energy', 'key', 'loudness', 'mode','speechiness', 'acousticness',\n",
    "                'instrumentalness','liveness', 'valence', 'tempo', 'duration_in min/ms', 'time_signature']\n",
    "\n",
    "# Use the above feature name list to select the features from the DataFrame\n",
    "X = train_df[feature_cols]\n",
    "\n",
    "# Select a series of labels (the last column) from the DataFrame\n",
    "y = train_df['Class']\n",
    "\n",
    "# Randomly splitting the original dataset into training set and testing set\n",
    "# The function\"train_test_split\" from \"sklearn.cross_validation\" library performs random splitting.\n",
    "# \"test_size=0.15\" means that we pick 15% of data samples for testing set, and the rest (85%) for training set.\n",
    "X_train, X_test, y_train, y_test = train_test_split(X, y, test_size = 0.15, random_state = 3)\n",
    "\n",
    "print(X_train.shape)\n",
    "X_train"
   ]
  },
  {
   "cell_type": "markdown",
   "id": "70094959",
   "metadata": {},
   "source": [
    "## Random Forest Implementation"
   ]
  },
  {
   "cell_type": "code",
   "execution_count": 5,
   "id": "e5a9340c",
   "metadata": {},
   "outputs": [],
   "source": [
    "my_RandomForest = RandomForestClassifier(n_estimators=19, bootstrap=True, random_state=6)\n",
    "\n",
    "# Training ONLY on the training set:\n",
    "my_RandomForest.fit(X_train, y_train)\n",
    "\n",
    "# Testing on the testing set:\n",
    "y_predict = my_RandomForest.predict(X_test)"
   ]
  },
  {
   "cell_type": "code",
   "execution_count": 6,
   "id": "fa21b305",
   "metadata": {},
   "outputs": [
    {
     "name": "stdout",
     "output_type": "stream",
     "text": [
      "The accuracy score of the Random Forest is: 0.7060185185185185\n"
     ]
    }
   ],
   "source": [
    "# We can now compare the \"predicted labels\" for the Testing Set with its \"actual labels\" to evaluate the accuracy \n",
    "# Function \"accuracy_score\" from \"sklearn.metrics\" will perform the element-to-element comparison and returns the \n",
    "# portion of correct predictions:\n",
    "\n",
    "score = accuracy_score(y_test, y_predict)\n",
    "\n",
    "print(\"The accuracy score of the Random Forest is: \" + str(score))"
   ]
  },
  {
   "cell_type": "markdown",
   "id": "f9d9b146",
   "metadata": {},
   "source": [
    "### True Positive Rate (TPR) and False Positive Rate (FPR):"
   ]
  },
  {
   "cell_type": "code",
   "execution_count": 7,
   "id": "7cc39932",
   "metadata": {},
   "outputs": [],
   "source": [
    "# Estimating the probability (likelihood) of each label:\n",
    "y_predict_prob = my_RandomForest.predict_proba(X_test)\n",
    "\n",
    "fpr, tpr, thresholds = metrics.roc_curve(y_test, y_predict_prob[:,1], pos_label=1)"
   ]
  },
  {
   "cell_type": "markdown",
   "id": "c8850668",
   "metadata": {},
   "source": [
    "### AUC:"
   ]
  },
  {
   "cell_type": "code",
   "execution_count": 8,
   "id": "d26c5d25",
   "metadata": {},
   "outputs": [
    {
     "name": "stdout",
     "output_type": "stream",
     "text": [
      "The AUC of the Random Forest is: 0.6946996742671012\n"
     ]
    }
   ],
   "source": [
    "AUC = metrics.auc(fpr, tpr)\n",
    "print(\"The AUC of the Random Forest is: \" + str(AUC))"
   ]
  },
  {
   "cell_type": "markdown",
   "id": "dc04c201",
   "metadata": {},
   "source": [
    "### ROC Curve:"
   ]
  },
  {
   "cell_type": "code",
   "execution_count": 9,
   "id": "4338b3b5",
   "metadata": {},
   "outputs": [
    {
     "data": {
      "image/png": "[encoded data removed]",
      "text/plain": [
       "<Figure size 432x288 with 1 Axes>"
      ]
     },
     "metadata": {
      "needs_background": "light"
     },
     "output_type": "display_data"
    }
   ],
   "source": [
    "plt.figure()\n",
    "\n",
    "# Roc Curve:\n",
    "plt.plot(fpr, tpr, color='red', lw=2, label='ROC Curve (area = %0.2f)' % AUC)\n",
    "\n",
    "# Random Guess line:\n",
    "plt.plot([0, 1], [0, 1], color='blue', lw=1, linestyle='--')\n",
    "\n",
    "# Defining The Range of X-Axis and Y-Axis:\n",
    "plt.xlim([-0.005, 1.005])\n",
    "plt.ylim([0.0, 1.01])\n",
    "\n",
    "# Labels, Title, Legend:\n",
    "plt.xlabel('False Positive Rate')\n",
    "plt.ylabel('True Positive Rate')\n",
    "plt.title('Receiver operating characteristic')\n",
    "plt.legend(loc=\"lower right\")\n",
    "\n",
    "plt.show()"
   ]
  },
  {
   "cell_type": "markdown",
   "id": "75dd3adb",
   "metadata": {},
   "source": [
    "## Decision Tree Implementation"
   ]
  },
  {
   "cell_type": "code",
   "execution_count": 10,
   "id": "d91b5ad5",
   "metadata": {},
   "outputs": [
    {
     "name": "stdout",
     "output_type": "stream",
     "text": [
      "The accuracy score of the Decision Tree is: 0.649074074074074\n",
      "The AUC of the Decision Tree is: 0.5592052117263844\n"
     ]
    },
    {
     "data": {
      "image/png": "[encoded data removed]",
      "text/plain": [
       "<Figure size 432x288 with 1 Axes>"
      ]
     },
     "metadata": {
      "needs_background": "light"
     },
     "output_type": "display_data"
    }
   ],
   "source": [
    "my_dt = DecisionTreeClassifier(random_state=3)\n",
    "\n",
    "#Training the model\n",
    "my_dt.fit(X_train, y_train)\n",
    "\n",
    "#Making predictions with test set\n",
    "y_predict_dt = my_dt.predict(X_test)\n",
    "\n",
    "#Calculating and displaying accuracy score of the decision tree\n",
    "score = accuracy_score(y_test, y_predict_dt)\n",
    "print(\"The accuracy score of the Decision Tree is: \" + str(score))\n",
    "\n",
    "#Calculating AUC\n",
    "y_predict_prob = my_dt.predict_proba(X_test)\n",
    "\n",
    "fpr, tpr, thresholds = metrics.roc_curve(y_test, y_predict_prob[:,1], pos_label=1)\n",
    "\n",
    "AUC = metrics.auc(fpr, tpr)\n",
    "print(\"The AUC of the Decision Tree is: \" + str(AUC))\n",
    "\n",
    "plt.figure()\n",
    "\n",
    "# Roc Curve:\n",
    "plt.plot(fpr, tpr, color='red', lw=2, \n",
    "         label='ROC Curve (area = %0.2f)' % AUC)\n",
    "\n",
    "# Random Guess line:\n",
    "plt.plot([0, 1], [0, 1], color='blue', lw=1, linestyle='--')\n",
    "\n",
    "# Defining The Range of X-Axis and Y-Axis:\n",
    "plt.xlim([-0.005, 1.005])\n",
    "plt.ylim([0.0, 1.01])\n",
    "\n",
    "# Labels, Title, Legend:\n",
    "plt.xlabel('False Positive Rate')\n",
    "plt.ylabel('True Positive Rate')\n",
    "plt.title('Receiver operating characteristic')\n",
    "plt.legend(loc=\"lower right\")\n",
    "\n",
    "plt.show()"
   ]
  },
  {
   "cell_type": "markdown",
   "id": "ceacc717",
   "metadata": {},
   "source": [
    "## KNN Implementation"
   ]
  },
  {
   "cell_type": "code",
   "execution_count": 11,
   "id": "14189bf6",
   "metadata": {},
   "outputs": [
    {
     "name": "stdout",
     "output_type": "stream",
     "text": [
      "The accuracy score of the knn is: 0.6944444444444444\n",
      "The AUC of the KNN is: 0.5829039739413682\n"
     ]
    },
    {
     "data": {
      "image/png": "[encoded data removed]",
      "text/plain": [
       "<Figure size 432x288 with 1 Axes>"
      ]
     },
     "metadata": {
      "needs_background": "light"
     },
     "output_type": "display_data"
    }
   ],
   "source": [
    "k = 10\n",
    "my_knn = KNeighborsClassifier(n_neighbors=k)\n",
    "\n",
    "#Training the model\n",
    "my_knn.fit(X_train, y_train)\n",
    "\n",
    "#Making predictions with test set\n",
    "y_predict_knn = my_knn.predict(X_test)\n",
    "\n",
    "#Calculating and displaying accuracy score of the decision tree\n",
    "score = accuracy_score(y_test, y_predict_knn)\n",
    "print(\"The accuracy score of the knn is: \" + str(score))\n",
    "\n",
    "#Calculating AUC\n",
    "y_predict_prob = my_knn.predict_proba(X_test)\n",
    "\n",
    "fpr, tpr, thresholds = metrics.roc_curve(y_test, y_predict_prob[:,1], pos_label=1)\n",
    "\n",
    "AUC = metrics.auc(fpr, tpr)\n",
    "print(\"The AUC of the KNN is: \" + str(AUC))\n",
    "\n",
    "plt.figure()\n",
    "\n",
    "# Roc Curve:\n",
    "plt.plot(fpr, tpr, color='red', lw=2, \n",
    "         label='ROC Curve (area = %0.2f)' % AUC)\n",
    "\n",
    "# Random Guess line:\n",
    "plt.plot([0, 1], [0, 1], color='blue', lw=1, linestyle='--')\n",
    "\n",
    "# Defining The Range of X-Axis and Y-Axis:\n",
    "plt.xlim([-0.005, 1.005])\n",
    "plt.ylim([0.0, 1.01])\n",
    "\n",
    "# Labels, Title, Legend:\n",
    "plt.xlabel('False Positive Rate')\n",
    "plt.ylabel('True Positive Rate')\n",
    "plt.title('Receiver operating characteristic')\n",
    "plt.legend(loc=\"lower right\")\n",
    "\n",
    "plt.show()"
   ]
  },
  {
   "cell_type": "markdown",
   "id": "c033d50c",
   "metadata": {},
   "source": [
    "# Testing accuracy and AUC if features with possible NaN values are just ignored"
   ]
  },
  {
   "cell_type": "code",
   "execution_count": 12,
   "id": "e63f9d40",
   "metadata": {},
   "outputs": [],
   "source": [
    "feature_cols2 = ['danceability','energy','loudness','mode','speechiness','acousticness','liveness',\n",
    "                 'valence','tempo','duration_in min/ms', 'time_signature']\n",
    "\n",
    "X = train_df[feature_cols2]\n",
    "y = train_df['Class']\n",
    "\n",
    "X_train, X_test, y_train, y_test = train_test_split(X, y, test_size = 0.15, random_state = 3)"
   ]
  },
  {
   "cell_type": "markdown",
   "id": "a1076a5e",
   "metadata": {},
   "source": [
    "## Random Forest Implementation"
   ]
  },
  {
   "cell_type": "code",
   "execution_count": 13,
   "id": "bec0e7a8",
   "metadata": {},
   "outputs": [
    {
     "name": "stdout",
     "output_type": "stream",
     "text": [
      "The accuracy score of the Random Forest is: 0.6856481481481481\n",
      "The AUC of the Random Forest is: 0.6663379804560261\n"
     ]
    },
    {
     "data": {
      "image/png": "[encoded data removed]",
      "text/plain": [
       "<Figure size 432x288 with 1 Axes>"
      ]
     },
     "metadata": {
      "needs_background": "light"
     },
     "output_type": "display_data"
    }
   ],
   "source": [
    "my_RandomForest = RandomForestClassifier(n_estimators=19, bootstrap=True, random_state=6)\n",
    "\n",
    "# Training ONLY on the training set:\n",
    "my_RandomForest.fit(X_train, y_train)\n",
    "\n",
    "# Testing on the testing set:\n",
    "y_predict = my_RandomForest.predict(X_test)\n",
    "\n",
    "#Calculating and displaying accuracy score of the random forest\n",
    "score = accuracy_score(y_test, y_predict)\n",
    "\n",
    "print(\"The accuracy score of the Random Forest is: \" + str(score))\n",
    "\n",
    "#Calculating AUC\n",
    "y_predict_prob = my_RandomForest.predict_proba(X_test)\n",
    "\n",
    "fpr, tpr, thresholds = metrics.roc_curve(y_test, y_predict_prob[:,1], pos_label=1)\n",
    "\n",
    "AUC = metrics.auc(fpr, tpr)\n",
    "print(\"The AUC of the Random Forest is: \" + str(AUC))\n",
    "\n",
    "plt.figure()\n",
    "\n",
    "# Roc Curve:\n",
    "plt.plot(fpr, tpr, color='red', lw=2, \n",
    "         label='ROC Curve (area = %0.2f)' % AUC)\n",
    "\n",
    "# Random Guess line:\n",
    "plt.plot([0, 1], [0, 1], color='blue', lw=1, linestyle='--')\n",
    "\n",
    "# Defining The Range of X-Axis and Y-Axis:\n",
    "plt.xlim([-0.005, 1.005])\n",
    "plt.ylim([0.0, 1.01])\n",
    "\n",
    "# Labels, Title, Legend:\n",
    "plt.xlabel('False Positive Rate')\n",
    "plt.ylabel('True Positive Rate')\n",
    "plt.title('Receiver operating characteristic')\n",
    "plt.legend(loc=\"lower right\")\n",
    "\n",
    "plt.show()"
   ]
  },
  {
   "cell_type": "markdown",
   "id": "84ffce08",
   "metadata": {},
   "source": [
    "## Decision Tree Implementation"
   ]
  },
  {
   "cell_type": "code",
   "execution_count": 14,
   "id": "a32c4452",
   "metadata": {},
   "outputs": [
    {
     "name": "stdout",
     "output_type": "stream",
     "text": [
      "The accuracy score of the Decision Tree is: 0.6638888888888889\n",
      "The AUC of the Decision Tree is: 0.5739309446254072\n"
     ]
    },
    {
     "data": {
      "image/png": "[encoded data removed]",
      "text/plain": [
       "<Figure size 432x288 with 1 Axes>"
      ]
     },
     "metadata": {
      "needs_background": "light"
     },
     "output_type": "display_data"
    }
   ],
   "source": [
    "my_dt = DecisionTreeClassifier(random_state=3)\n",
    "\n",
    "#Training the model\n",
    "my_dt.fit(X_train, y_train)\n",
    "\n",
    "#Making predictions with test set\n",
    "y_predict_dt = my_dt.predict(X_test)\n",
    "\n",
    "#Calculating and displaying accuracy score of the decision tree\n",
    "score = accuracy_score(y_test, y_predict_dt)\n",
    "print(\"The accuracy score of the Decision Tree is: \" + str(score))\n",
    "\n",
    "#Calculating AUC\n",
    "y_predict_prob = my_dt.predict_proba(X_test)\n",
    "\n",
    "fpr, tpr, thresholds = metrics.roc_curve(y_test, y_predict_prob[:,1], pos_label=1)\n",
    "\n",
    "AUC = metrics.auc(fpr, tpr)\n",
    "print(\"The AUC of the Decision Tree is: \" + str(AUC))\n",
    "\n",
    "plt.figure()\n",
    "\n",
    "# Roc Curve:\n",
    "plt.plot(fpr, tpr, color='red', lw=2, \n",
    "         label='ROC Curve (area = %0.2f)' % AUC)\n",
    "\n",
    "# Random Guess line:\n",
    "plt.plot([0, 1], [0, 1], color='blue', lw=1, linestyle='--')\n",
    "\n",
    "# Defining The Range of X-Axis and Y-Axis:\n",
    "plt.xlim([-0.005, 1.005])\n",
    "plt.ylim([0.0, 1.01])\n",
    "\n",
    "# Labels, Title, Legend:\n",
    "plt.xlabel('False Positive Rate')\n",
    "plt.ylabel('True Positive Rate')\n",
    "plt.title('Receiver operating characteristic')\n",
    "plt.legend(loc=\"lower right\")\n",
    "\n",
    "plt.show()"
   ]
  },
  {
   "cell_type": "markdown",
   "id": "b8be7a65",
   "metadata": {},
   "source": [
    "## KNN Implementation"
   ]
  },
  {
   "cell_type": "code",
   "execution_count": 15,
   "id": "b6d09f05",
   "metadata": {},
   "outputs": [
    {
     "name": "stdout",
     "output_type": "stream",
     "text": [
      "The accuracy score of KNN is: 0.6916666666666667\n",
      "The AUC of the KNN is: 0.575383973941368\n"
     ]
    },
    {
     "data": {
      "image/png": "[encoded data removed]",
      "text/plain": [
       "<Figure size 432x288 with 1 Axes>"
      ]
     },
     "metadata": {
      "needs_background": "light"
     },
     "output_type": "display_data"
    }
   ],
   "source": [
    "k = 10\n",
    "my_knn = KNeighborsClassifier(n_neighbors=k)\n",
    "\n",
    "#Training the model\n",
    "my_knn.fit(X_train, y_train)\n",
    "\n",
    "#Making predictions with test set\n",
    "y_predict_knn = my_knn.predict(X_test)\n",
    "\n",
    "#Calculating and displaying accuracy score of knn classifier\n",
    "score = accuracy_score(y_test, y_predict_knn)\n",
    "print(\"The accuracy score of KNN is: \" + str(score))\n",
    "\n",
    "#Calculating AUC\n",
    "y_predict_prob = my_knn.predict_proba(X_test)\n",
    "\n",
    "fpr, tpr, thresholds = metrics.roc_curve(y_test, y_predict_prob[:,1], pos_label=1)\n",
    "\n",
    "AUC = metrics.auc(fpr, tpr)\n",
    "print(\"The AUC of the KNN is: \" + str(AUC))\n",
    "\n",
    "plt.figure()\n",
    "\n",
    "# Roc Curve:\n",
    "plt.plot(fpr, tpr, color='red', lw=2, \n",
    "         label='ROC Curve (area = %0.2f)' % AUC)\n",
    "\n",
    "# Random Guess line:\n",
    "plt.plot([0, 1], [0, 1], color='blue', lw=1, linestyle='--')\n",
    "\n",
    "# Defining The Range of X-Axis and Y-Axis:\n",
    "plt.xlim([-0.005, 1.005])\n",
    "plt.ylim([0.0, 1.01])\n",
    "\n",
    "# Labels, Title, Legend:\n",
    "plt.xlabel('False Positive Rate')\n",
    "plt.ylabel('True Positive Rate')\n",
    "plt.title('Receiver operating characteristic')\n",
    "plt.legend(loc=\"lower right\")\n",
    "\n",
    "plt.show()"
   ]
  }
 ],
 "metadata": {
  "kernelspec": {
   "display_name": "Python 3 (ipykernel)",
   "language": "python",
   "name": "python3"
  },
  "language_info": {
   "codemirror_mode": {
    "name": "ipython",
    "version": 3
   },
   "file_extension": ".py",
   "mimetype": "text/x-python",
   "name": "python",
   "nbconvert_exporter": "python",
   "pygments_lexer": "ipython3",
   "version": "3.9.12"
  }
 },
 "nbformat": 4,
 "nbformat_minor": 5
}
